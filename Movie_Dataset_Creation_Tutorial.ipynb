{
  "cells": [
    {
      "cell_type": "markdown",
      "metadata": {
        "id": "hKv14liYV1GV"
      },
      "source": [
        "# Movie Dataset Creation (DS Project) Tutorial\n",
        "\n",
        "Following [Keith Galli's YouTube tutorial](https://www.youtube.com/watch?v=Ewgy-G9cmbg)\n",
        "\n",
        "IMPORTANT NOTE! Websites have rules regarding scraping spiders. Most are fine for personal purposes, but for commercial use, you'll need to regard these with care. It's always worth looking at the rules regardless.<br> To see the rules, google the *website* name followed by 'robots.txt'\n"
      ]
    },
    {
      "cell_type": "markdown",
      "metadata": {
        "id": "_LrDLCDrqhBx"
      },
      "source": [
        "## Task 1: Create Spider"
      ]
    },
    {
      "cell_type": "code",
      "execution_count": 1,
      "metadata": {
        "id": "eibiPuQD_oE4"
      },
      "outputs": [],
      "source": [
        "# import libraries\n",
        "import requests\n",
        "from bs4 import BeautifulSoup as bs\n",
        "import re\n",
        "import json\n",
        "from datetime import datetime\n",
        "import pickle\n",
        "import pandas as pd"
      ]
    },
    {
      "cell_type": "code",
      "execution_count": 2,
      "metadata": {
        "id": "yi0pOAPIuHfZ"
      },
      "outputs": [],
      "source": [
        "# get website as BeautifulSoup object\n",
        "r = requests.get('https://en.wikipedia.org/wiki/Toy_Story_3')\n",
        "website = bs(r.content)"
      ]
    },
    {
      "cell_type": "code",
      "execution_count": 3,
      "metadata": {
        "id": "wvkkHWXtuTop"
      },
      "outputs": [],
      "source": [
        "# find infobox table\n",
        "table = website.body.find('table', attrs={'class': 'infobox vevent'})"
      ]
    },
    {
      "cell_type": "code",
      "execution_count": 4,
      "metadata": {
        "id": "uCukivWwusSK"
      },
      "outputs": [],
      "source": [
        "# create table dict\n",
        "ts3_dict = {'Title': 0}"
      ]
    },
    {
      "cell_type": "code",
      "execution_count": 5,
      "metadata": {
        "id": "VrYoF3x4vX8z"
      },
      "outputs": [],
      "source": [
        "# replace title\n",
        "ts3_dict['Title'] = table.find('tr').string"
      ]
    },
    {
      "cell_type": "code",
      "execution_count": 6,
      "metadata": {
        "id": "N3tLUu8uvesr"
      },
      "outputs": [],
      "source": [
        "# select remaining infobox elements\n",
        "rows = table.tbody.select('tr')[2:]"
      ]
    },
    {
      "cell_type": "code",
      "execution_count": 7,
      "metadata": {
        "id": "ANnxQUBbw9hL"
      },
      "outputs": [],
      "source": [
        "# move infobox items into table dict\n",
        "for row in rows:\n",
        "    k = row.find('th').get_text(' ', strip=True)\n",
        "    if row.select('ul'):\n",
        "        l = row.select('li')\n",
        "        v = [li.get_text(' ', strip=True).replace('\\xa0', ' ') for li in l]\n",
        "    else:\n",
        "        v = row.find('td').get_text(' ', strip=True).replace('\\xa0', ' ')\n",
        "    ts3_dict[k] = v"
      ]
    },
    {
      "cell_type": "code",
      "execution_count": 8,
      "metadata": {
        "colab": {
          "base_uri": "https://localhost:8080/"
        },
        "id": "hpzCCFY-xhPj",
        "outputId": "a9677609-fe15-4aa4-d321-10e792ce3cfd"
      },
      "outputs": [
        {
          "data": {
            "text/plain": [
              "{'Title': 'Toy Story 3',\n",
              " 'Directed by': 'Lee Unkrich',\n",
              " 'Screenplay by': 'Michael Arndt',\n",
              " 'Story by': ['John Lasseter', 'Andrew Stanton', 'Lee Unkrich'],\n",
              " 'Produced by': 'Darla K. Anderson',\n",
              " 'Starring': ['Tom Hanks',\n",
              "  'Tim Allen',\n",
              "  'Joan Cusack',\n",
              "  'Don Rickles',\n",
              "  'Wallace Shawn',\n",
              "  'John Ratzenberger',\n",
              "  'Estelle Harris',\n",
              "  'Ned Beatty',\n",
              "  'Michael Keaton',\n",
              "  'Jodi Benson',\n",
              "  'John Morris'],\n",
              " 'Cinematography': ['Jeremy Lasky', 'Kim White'],\n",
              " 'Edited by': 'Ken Schretzmann',\n",
              " 'Music by': 'Randy Newman',\n",
              " 'Production companies': ['Walt Disney Pictures', 'Pixar Animation Studios'],\n",
              " 'Distributed by': 'Walt Disney Studios Motion Pictures',\n",
              " 'Release dates': ['June 12, 2010 ( 2010-06-12 ) ( Taormina Film Fest )',\n",
              "  'June 18, 2010 ( 2010-06-18 ) (United States)'],\n",
              " 'Running time': '103 minutes [1]',\n",
              " 'Country': 'United States',\n",
              " 'Language': 'English',\n",
              " 'Budget': '$200 million [1]',\n",
              " 'Box office': '$1.067 billion [1]'}"
            ]
          },
          "execution_count": 8,
          "metadata": {},
          "output_type": "execute_result"
        }
      ],
      "source": [
        "# completed infobox scrape\n",
        "ts3_dict"
      ]
    },
    {
      "cell_type": "code",
      "execution_count": 9,
      "metadata": {
        "colab": {
          "base_uri": "https://localhost:8080/"
        },
        "id": "28u02umk5Exf",
        "outputId": "65120455-27cf-4e7d-b044-2c68325f20f1"
      },
      "outputs": [
        {
          "data": {
            "text/plain": [
              "{'Title': 'Toy Story 3',\n",
              " 'Directed by': 'Lee Unkrich',\n",
              " 'Screenplay by': 'Michael Arndt',\n",
              " 'Story by': ['John Lasseter', 'Andrew Stanton', 'Lee Unkrich'],\n",
              " 'Produced by': 'Darla K. Anderson',\n",
              " 'Starring': ['Tom Hanks',\n",
              "  'Tim Allen',\n",
              "  'Joan Cusack',\n",
              "  'Don Rickles',\n",
              "  'Wallace Shawn',\n",
              "  'John Ratzenberger',\n",
              "  'Estelle Harris',\n",
              "  'Ned Beatty',\n",
              "  'Michael Keaton',\n",
              "  'Jodi Benson',\n",
              "  'John Morris'],\n",
              " 'Cinematography': ['Jeremy Lasky', 'Kim White'],\n",
              " 'Edited by': 'Ken Schretzmann',\n",
              " 'Music by': 'Randy Newman',\n",
              " 'Production companies': ['Walt Disney Pictures', 'Pixar Animation Studios'],\n",
              " 'Distributed by': 'Walt Disney Studios Motion Pictures',\n",
              " 'Release dates': ['June 12, 2010 ( 2010-06-12 ) ( Taormina Film Fest )',\n",
              "  'June 18, 2010 ( 2010-06-18 ) (United States)'],\n",
              " 'Running time': '103 minutes [1]',\n",
              " 'Country': 'United States',\n",
              " 'Language': 'English',\n",
              " 'Budget': '$200 million [1]',\n",
              " 'Box office': '$1.067 billion [1]'}"
            ]
          },
          "execution_count": 9,
          "metadata": {},
          "output_type": "execute_result"
        }
      ],
      "source": [
        "# another solution to above\n",
        "\n",
        "info_rows = table.select('tr')\n",
        "\n",
        "def get_content_value(row_data):\n",
        "    if row_data.find('li'):\n",
        "        return [li.get_text(' ', strip=True).replace('\\xa0', ' ') for li in row_data.find_all('li')]\n",
        "    else:\n",
        "        return row_data.get_text(' ', strip=True).replace('\\xa0', ' ')\n",
        "\n",
        "movie_info = {}\n",
        "\n",
        "for index, row in enumerate(info_rows):\n",
        "    if index == 0:\n",
        "        movie_info['Title'] = row.find('th').get_text(' ', strip=True)\n",
        "    elif index == 1:\n",
        "        continue\n",
        "    else:\n",
        "        content_key = row.find('th').get_text(' ', strip=True)\n",
        "        content_value = get_content_value(row.find('td'))\n",
        "        movie_info[content_key] = content_value\n",
        "\n",
        "movie_info"
      ]
    },
    {
      "cell_type": "code",
      "execution_count": 10,
      "metadata": {
        "id": "1LueehOy6sPe"
      },
      "outputs": [],
      "source": [
        "# get value function for key-value pairs\n",
        "def get_content_value(row_data):\n",
        "    if row_data.find('li'):\n",
        "        return [li.get_text(' ', strip=True).replace('\\xa0', ' ') for li in row_data.find_all('li')]\n",
        "    else:\n",
        "        return row_data.get_text(' ', strip=True).replace('\\xa0', ' ')\n",
        "\n",
        "# moving scrape into a function\n",
        "def wiki_infobox_scrape(wiki_href):\n",
        "    # get page as BeautifulSoup\n",
        "    r = requests.get('https://en.wikipedia.org/' + wiki_href)\n",
        "    page = bs(r.content)\n",
        "    # find infobox table\n",
        "    table = page.body.find('table', attrs={'class': 'infobox vevent'})\n",
        "    # get table rows\n",
        "    info_rows = table.select('tr')\n",
        "    # initialize dictionary\n",
        "    movie_info = {}\n",
        "    # populate dictionary\n",
        "    for index, row in enumerate(info_rows):\n",
        "        if index == 0:\n",
        "            movie_info['Title'] = row.find('th').get_text(' ', strip=True)\n",
        "        elif index == 1:\n",
        "            continue\n",
        "        else:\n",
        "            content_key = row.find('th').get_text(' ', strip=True)\n",
        "            content_value = get_content_value(row.find('td'))\n",
        "            movie_info[content_key] = content_value\n",
        "\n",
        "    return movie_info"
      ]
    },
    {
      "cell_type": "code",
      "execution_count": 11,
      "metadata": {
        "colab": {
          "base_uri": "https://localhost:8080/"
        },
        "id": "RX1ewiWQ-5Ox",
        "outputId": "3d71135a-3adf-4961-d7fb-3cf78d66ff9d"
      },
      "outputs": [
        {
          "data": {
            "text/plain": [
              "{'Title': 'Toy Story 3',\n",
              " 'Directed by': 'Lee Unkrich',\n",
              " 'Screenplay by': 'Michael Arndt',\n",
              " 'Story by': ['John Lasseter', 'Andrew Stanton', 'Lee Unkrich'],\n",
              " 'Produced by': 'Darla K. Anderson',\n",
              " 'Starring': ['Tom Hanks',\n",
              "  'Tim Allen',\n",
              "  'Joan Cusack',\n",
              "  'Don Rickles',\n",
              "  'Wallace Shawn',\n",
              "  'John Ratzenberger',\n",
              "  'Estelle Harris',\n",
              "  'Ned Beatty',\n",
              "  'Michael Keaton',\n",
              "  'Jodi Benson',\n",
              "  'John Morris'],\n",
              " 'Cinematography': ['Jeremy Lasky', 'Kim White'],\n",
              " 'Edited by': 'Ken Schretzmann',\n",
              " 'Music by': 'Randy Newman',\n",
              " 'Production companies': ['Walt Disney Pictures', 'Pixar Animation Studios'],\n",
              " 'Distributed by': 'Walt Disney Studios Motion Pictures',\n",
              " 'Release dates': ['June 12, 2010 ( 2010-06-12 ) ( Taormina Film Fest )',\n",
              "  'June 18, 2010 ( 2010-06-18 ) (United States)'],\n",
              " 'Running time': '103 minutes [1]',\n",
              " 'Country': 'United States',\n",
              " 'Language': 'English',\n",
              " 'Budget': '$200 million [1]',\n",
              " 'Box office': '$1.067 billion [1]'}"
            ]
          },
          "execution_count": 11,
          "metadata": {},
          "output_type": "execute_result"
        }
      ],
      "source": [
        "# quick function test\n",
        "dict_test = wiki_infobox_scrape('wiki/Toy_Story_3')\n",
        "dict_test"
      ]
    },
    {
      "cell_type": "markdown",
      "metadata": {
        "id": "UOIjCgV_qrAi"
      },
      "source": [
        "## Task 2: Run spider on all Disney films"
      ]
    },
    {
      "cell_type": "code",
      "execution_count": 12,
      "metadata": {
        "id": "sKdbVf0D_I-K"
      },
      "outputs": [],
      "source": [
        "# get BeautifulSoup object\n",
        "movie_scrape = bs(requests.get('https://en.wikipedia.org/wiki/List_of_Walt_Disney_Pictures_films').content)"
      ]
    },
    {
      "cell_type": "code",
      "execution_count": 13,
      "metadata": {
        "id": "h5XAkTNhAFdz"
      },
      "outputs": [],
      "source": [
        "# get tables of movies\n",
        "tables = movie_scrape.find_all('table', attrs={'class': re.compile('wikitable')})"
      ]
    },
    {
      "cell_type": "code",
      "execution_count": 14,
      "metadata": {
        "id": "rL0nbyXlBJQ0"
      },
      "outputs": [],
      "source": [
        "# relative paths\n",
        "hrefs = []\n",
        "# movie titles\n",
        "titles = []\n",
        "# movies without hrefs\n",
        "ref_fails = []\n",
        "\n",
        "# gets hrefs and titles for each movie (or adds movie to ref_fails)\n",
        "for table in tables:\n",
        "    for row in table.select('tr')[1:]:\n",
        "        td = row.findChild()\n",
        "        try:\n",
        "            movie_href = td.a['href']\n",
        "            movie_title = td.a['title']\n",
        "\n",
        "            hrefs.append(movie_href)\n",
        "            titles.append(movie_title)\n",
        "        except Exception as e:\n",
        "            ref_fails.append(td.get_text())"
      ]
    },
    {
      "cell_type": "code",
      "execution_count": 15,
      "metadata": {
        "colab": {
          "base_uri": "https://localhost:8080/"
        },
        "id": "DD10M7sJNbBg",
        "outputId": "e98162f4-f802-4e80-ffbc-c9aa81eb19a2"
      },
      "outputs": [
        {
          "name": "stdout",
          "output_type": "stream",
          "text": [
            "557 557 19\n"
          ]
        },
        {
          "data": {
            "text/plain": [
              "['/wiki/Snow_White_and_the_Seven_Dwarfs_(1937_film)',\n",
              " '/wiki/Pinocchio_(1940_film)',\n",
              " '/wiki/Fantasia_(1940_film)',\n",
              " '/wiki/The_Reluctant_Dragon_(1941_film)',\n",
              " '/wiki/Dumbo',\n",
              " '/wiki/Bambi',\n",
              " '/wiki/Saludos_Amigos',\n",
              " '/wiki/Victory_Through_Air_Power_(film)',\n",
              " '/wiki/The_Three_Caballeros',\n",
              " '/wiki/Make_Mine_Music',\n",
              " '/wiki/Song_of_the_South',\n",
              " '/wiki/Fun_and_Fancy_Free',\n",
              " '/wiki/Melody_Time',\n",
              " '/wiki/So_Dear_to_My_Heart',\n",
              " '/wiki/The_Adventures_of_Ichabod_and_Mr._Toad',\n",
              " '/wiki/Cinderella_(1950_film)',\n",
              " '/wiki/Treasure_Island_(1950_film)',\n",
              " '/wiki/Alice_in_Wonderland_(1951_film)',\n",
              " '/wiki/The_Story_of_Robin_Hood_(film)',\n",
              " '/wiki/Peter_Pan_(1953_film)']"
            ]
          },
          "execution_count": 15,
          "metadata": {},
          "output_type": "execute_result"
        }
      ],
      "source": [
        "# see successful hrefs\n",
        "print(len(hrefs), len(titles), len(ref_fails))\n",
        "hrefs[:20]"
      ]
    },
    {
      "cell_type": "code",
      "execution_count": 16,
      "metadata": {
        "colab": {
          "base_uri": "https://localhost:8080/"
        },
        "id": "m9O5KHCnpHjJ",
        "outputId": "5a17a8b9-9d1b-4899-ecea-c4f55ffce000"
      },
      "outputs": [
        {
          "data": {
            "text/plain": [
              "['Trail of the Panda\\n',\n",
              " 'Growing Up Wild\\n',\n",
              " 'Expedition China\\n',\n",
              " 'Wish\\n',\n",
              " 'Elio\\n',\n",
              " '29 Dates ‡\\n',\n",
              " 'Aloha Rodeo ‡\\n',\n",
              " 'Knights\\n',\n",
              " 'Merlin\\n',\n",
              " 'Penelope\\n',\n",
              " 'Sadé\\n',\n",
              " 'Society of Explorers and Adventurers\\n',\n",
              " 'Song for a Whale ‡\\n',\n",
              " 'Spooked ‡\\n',\n",
              " 'Untitled Josie Trinidad film\\n',\n",
              " 'Untitled Kristen Lester film\\n',\n",
              " 'Untitled Marc Smith film\\n',\n",
              " \"World's Best ‡\\n\",\n",
              " \"Wouldn't It Be Nice ‡\\n\"]"
            ]
          },
          "execution_count": 16,
          "metadata": {},
          "output_type": "execute_result"
        }
      ],
      "source": [
        "# show reference failures\n",
        "ref_fails"
      ]
    },
    {
      "cell_type": "markdown",
      "metadata": {
        "id": "JcHTW8xmsE8N"
      },
      "source": [
        "All of the reference failures do not contain a link."
      ]
    },
    {
      "cell_type": "code",
      "execution_count": 17,
      "metadata": {
        "colab": {
          "base_uri": "https://localhost:8080/",
          "height": 473
        },
        "id": "vdhJaTYBFq2g",
        "outputId": "cc263154-a3bf-4874-f0fd-60d03752a394"
      },
      "outputs": [],
      "source": [
        "# COMMENTED OUT - ACTUAL SCRAPE (REQUESTS) PROCESSED IN CLEANED CELLS BELOW\n",
        "\n",
        "# # list of movie infobox dictionaries\n",
        "# movie_infobox_list = []\n",
        "# # list of hrefs for failed scrapes\n",
        "# scrape_failure = {}\n",
        "\n",
        "# # moves all movie infobox scrapes into movie_infobox_list\n",
        "# for href in hrefs:\n",
        "#     try:\n",
        "#         movie_infobox_list.append(wiki_infobox_scrape(href))\n",
        "#     except Exception as e:\n",
        "#         scrape_failure[href] = e"
      ]
    },
    {
      "cell_type": "code",
      "execution_count": 18,
      "metadata": {
        "id": "HceBoZXuJPlz"
      },
      "outputs": [],
      "source": [
        "# failed scrapes\n",
        "# scrape_failure"
      ]
    },
    {
      "cell_type": "code",
      "execution_count": 19,
      "metadata": {
        "id": "qa82GqqKcCP-"
      },
      "outputs": [],
      "source": [
        "# saves converted json into local variable\n",
        "# movie_json = json.dumps(movie_infobox_list)"
      ]
    },
    {
      "cell_type": "code",
      "execution_count": 20,
      "metadata": {
        "id": "HnrOEFLve-9I"
      },
      "outputs": [],
      "source": [
        "# for saving to repo\n",
        "def save_data(file_title, data):\n",
        "    with open(file_title, 'w', encoding='utf-8') as f:\n",
        "        json.dump(data, f, ensure_ascii=False, indent=2)"
      ]
    },
    {
      "cell_type": "code",
      "execution_count": 21,
      "metadata": {
        "id": "G3lyMi7Lf7Py"
      },
      "outputs": [],
      "source": [
        "# for loading from repo\n",
        "def load_data(file_title):\n",
        "    with open(file_title, encoding='utf-8') as f:\n",
        "        return json.load(f)"
      ]
    },
    {
      "cell_type": "code",
      "execution_count": 22,
      "metadata": {
        "id": "LWVHsRfjgJBC"
      },
      "outputs": [],
      "source": [
        "# saves data to local repo\n",
        "# save_data('disney_movies.json', movie_infobox_list)"
      ]
    },
    {
      "cell_type": "code",
      "execution_count": 23,
      "metadata": {
        "id": "0xm0qBnigfRT"
      },
      "outputs": [],
      "source": [
        "# loads data from local repo\n",
        "# load_data('disney_movies.json')"
      ]
    },
    {
      "cell_type": "markdown",
      "metadata": {
        "id": "ACuVR7m-iGB0"
      },
      "source": [
        "## Task 3: Cleaning data\n",
        "\n",
        "- Clean up references (subscript boxes like [1])\n",
        "- Convert running time to integer\n",
        "- Convert dates to datetime\n",
        "- Split up long strings\n",
        "- Convert budget & box office to numbers"
      ]
    },
    {
      "cell_type": "markdown",
      "metadata": {
        "id": "ox4T9-zYo2no"
      },
      "source": [
        "Clean up references and split strings in scraping function"
      ]
    },
    {
      "cell_type": "code",
      "execution_count": 24,
      "metadata": {
        "id": "taZW6ZyciqXF"
      },
      "outputs": [],
      "source": [
        "# get value function for key-value pairs\n",
        "def get_content_value(row_data):\n",
        "    if row_data.find('li'):\n",
        "        return [li.get_text(' ', strip=True).replace('\\xa0', ' ') for li in row_data.find_all('li')]\n",
        "    elif row_data.find('br'):\n",
        "        return [text for text in row_data.stripped_strings]\n",
        "    else:\n",
        "        return row_data.get_text(' ', strip=True).replace('\\xa0', ' ')\n",
        "\n",
        "# deletes subscript and span tags\n",
        "def clean_tags(soup):\n",
        "    for tag in soup.find_all(['sup', 'span']):\n",
        "        tag.decompose()\n",
        "\n",
        "# moving scrape into a function\n",
        "def wiki_infobox_scrape(wiki_href):\n",
        "    # get page as BeautifulSoup\n",
        "    r = requests.get('https://en.wikipedia.org/' + wiki_href)\n",
        "    page = bs(r.content)\n",
        "    # cleans tags\n",
        "    clean_tags(page)\n",
        "    # find infobox table\n",
        "    table = page.body.find('table', attrs={'class': 'infobox vevent'})\n",
        "    # get table rows\n",
        "    info_rows = table.select('tr')\n",
        "    # initialize dictionary\n",
        "    movie_info = {}\n",
        "    # populate dictionary\n",
        "    for index, row in enumerate(info_rows):\n",
        "        if index == 0:\n",
        "            movie_info['Title'] = row.find('th').get_text(' ', strip=True)\n",
        "        else:\n",
        "            header = row.find('th')\n",
        "            if header:\n",
        "                content_key = row.find('th').get_text(' ', strip=True)\n",
        "                content_value = get_content_value(row.find('td'))\n",
        "                movie_info[content_key] = content_value\n",
        "\n",
        "    return movie_info"
      ]
    },
    {
      "cell_type": "code",
      "execution_count": 25,
      "metadata": {
        "colab": {
          "base_uri": "https://localhost:8080/"
        },
        "id": "0NSf-_zRkc3d",
        "outputId": "bc5b08c0-4969-4806-ae2c-b4e1963a1498"
      },
      "outputs": [
        {
          "data": {
            "text/plain": [
              "{'Title': 'Toy Story 3',\n",
              " 'Directed by': 'Lee Unkrich',\n",
              " 'Screenplay by': 'Michael Arndt',\n",
              " 'Story by': ['John Lasseter', 'Andrew Stanton', 'Lee Unkrich'],\n",
              " 'Produced by': 'Darla K. Anderson',\n",
              " 'Starring': ['Tom Hanks',\n",
              "  'Tim Allen',\n",
              "  'Joan Cusack',\n",
              "  'Don Rickles',\n",
              "  'Wallace Shawn',\n",
              "  'John Ratzenberger',\n",
              "  'Estelle Harris',\n",
              "  'Ned Beatty',\n",
              "  'Michael Keaton',\n",
              "  'Jodi Benson',\n",
              "  'John Morris'],\n",
              " 'Cinematography': ['Jeremy Lasky', 'Kim White'],\n",
              " 'Edited by': 'Ken Schretzmann',\n",
              " 'Music by': 'Randy Newman',\n",
              " 'Production companies': ['Walt Disney Pictures', 'Pixar Animation Studios'],\n",
              " 'Distributed by': ['Walt Disney Studios', 'Motion Pictures'],\n",
              " 'Release dates': ['June 12, 2010 ( Taormina Film Fest )',\n",
              "  'June 18, 2010 (United States)'],\n",
              " 'Running time': '103 minutes',\n",
              " 'Country': 'United States',\n",
              " 'Language': 'English',\n",
              " 'Budget': '$200 million',\n",
              " 'Box office': '$1.067 billion'}"
            ]
          },
          "execution_count": 25,
          "metadata": {},
          "output_type": "execute_result"
        }
      ],
      "source": [
        "wiki_infobox_scrape('wiki/Toy_Story_3')"
      ]
    },
    {
      "cell_type": "code",
      "execution_count": 26,
      "metadata": {
        "id": "ivD8BQ3Fku62"
      },
      "outputs": [],
      "source": [
        "# list of movie infobox dictionaries\n",
        "movie_infobox_list = []\n",
        "# list of hrefs for failed scrapes\n",
        "scrape_failure = {}\n",
        "\n",
        "# moves all movie infobox scrapes into movie_infobox_list\n",
        "for href in hrefs:\n",
        "    try:\n",
        "        movie_infobox_list.append(wiki_infobox_scrape(href))\n",
        "    except Exception as e:\n",
        "        scrape_failure[href] = e"
      ]
    },
    {
      "cell_type": "code",
      "execution_count": 27,
      "metadata": {
        "colab": {
          "base_uri": "https://localhost:8080/"
        },
        "id": "H3Ge74CNt1WN",
        "outputId": "56ee7f6b-1645-4120-85e6-48cecaf2b5da"
      },
      "outputs": [
        {
          "data": {
            "text/plain": [
              "{'/wiki/Zorro_(1957_TV_series)#Theatrical': AttributeError(\"'NoneType' object has no attribute 'find'\"),\n",
              " '/wiki/The_Beatles:_Get_Back#The_Beatles:_Get_Back_–_The_Rooftop_Concert': AttributeError(\"'NoneType' object has no attribute 'find'\"),\n",
              " '/wiki/Elemental_(2023_film)': AttributeError(\"'NoneType' object has no attribute 'select'\"),\n",
              " '/wiki/Chris_Paul': AttributeError(\"'NoneType' object has no attribute 'select'\"),\n",
              " '/wiki/All_Night_Long_(All_Night)': AttributeError(\"'NoneType' object has no attribute 'find'\"),\n",
              " '/wiki/Big_Thunder_Mountain_Railroad': AttributeError(\"'NoneType' object has no attribute 'select'\"),\n",
              " '/wiki/Keeper_of_the_Lost_Cities#Film_adaptation': AttributeError(\"'NoneType' object has no attribute 'select'\"),\n",
              " '/wiki/Jim_Henson#Legacy': AttributeError(\"'NoneType' object has no attribute 'select'\"),\n",
              " '/wiki/One_Thousand_and_One_Nights': AttributeError(\"'NoneType' object has no attribute 'select'\"),\n",
              " '/wiki/Shrunk_(film)': AttributeError(\"'NoneType' object has no attribute 'find'\"),\n",
              " '/wiki/Sister_Act_3': AttributeError(\"'NoneType' object has no attribute 'find'\"),\n",
              " '/wiki/Space_Mountain#Film': AttributeError(\"'NoneType' object has no attribute 'select'\"),\n",
              " '/wiki/The_Graveyard_Book#Possible_film_adaptation': AttributeError(\"'NoneType' object has no attribute 'select'\"),\n",
              " '/wiki/The_Thief_(Turner_novel)': AttributeError(\"'NoneType' object has no attribute 'select'\"),\n",
              " '/wiki/Tom_Sawyer': AttributeError(\"'NoneType' object has no attribute 'select'\"),\n",
              " '/wiki/The_Twilight_Zone_Tower_of_Terror#Film_adaptation': AttributeError(\"'NoneType' object has no attribute 'select'\"),\n",
              " '/wiki/Tron:_Ares': AttributeError(\"'NoneType' object has no attribute 'find'\"),\n",
              " '/wiki/Brian_Fee': AttributeError(\"'NoneType' object has no attribute 'select'\"),\n",
              " '/wiki/FC_Barcelona': AttributeError(\"'NoneType' object has no attribute 'select'\"),\n",
              " '/wiki/Figment_(Disney)': AttributeError(\"'NoneType' object has no attribute 'select'\"),\n",
              " '/wiki/Jennifer_Lee_(filmmaker)': AttributeError(\"'NoneType' object has no attribute 'select'\"),\n",
              " '/wiki/Rosana_Sullivan': AttributeError(\"'NoneType' object has no attribute 'select'\"),\n",
              " '/wiki/Stephen_J._Anderson': AttributeError(\"'NoneType' object has no attribute 'select'\"),\n",
              " '/wiki/Suzi_Yoonessi': AttributeError(\"'NoneType' object has no attribute 'select'\")}"
            ]
          },
          "execution_count": 27,
          "metadata": {},
          "output_type": "execute_result"
        }
      ],
      "source": [
        "# failed scrapes\n",
        "scrape_failure"
      ]
    },
    {
      "cell_type": "code",
      "execution_count": 28,
      "metadata": {
        "id": "o7Ny-yWat2ss"
      },
      "outputs": [],
      "source": [
        "# saves converted json into local variable\n",
        "movie_json = json.dumps(movie_infobox_list)"
      ]
    },
    {
      "cell_type": "markdown",
      "metadata": {
        "id": "8l5Ig1oF2GPw"
      },
      "source": [
        "Converting running time to integer"
      ]
    },
    {
      "cell_type": "code",
      "execution_count": 29,
      "metadata": {
        "colab": {
          "base_uri": "https://localhost:8080/"
        },
        "id": "1VbQF6qEt8CB",
        "outputId": "3aa31916-3208-413d-b2c5-904d033b5e6d"
      },
      "outputs": [
        {
          "data": {
            "text/plain": [
              "{'Title': 'Aladdin',\n",
              " 'Directed by': 'Guy Ritchie',\n",
              " 'Screenplay by': ['John August', 'Guy Ritchie'],\n",
              " 'Based on': [\"Disney 's Aladdin by Ron Clements John Musker Ted Elliott Terry Rossio\",\n",
              "  'Ron Clements',\n",
              "  'John Musker',\n",
              "  'Ted Elliott',\n",
              "  'Terry Rossio',\n",
              "  'Aladdin and the Magic Lamp which is associated with One Thousand and One Nights'],\n",
              " 'Produced by': ['Dan Lin', 'Jonathan Eirich'],\n",
              " 'Starring': ['Will Smith',\n",
              "  'Mena Massoud',\n",
              "  'Naomi Scott',\n",
              "  'Marwan Kenzari',\n",
              "  'Navid Negahban',\n",
              "  'Nasim Pedrad',\n",
              "  'Billy Magnussen'],\n",
              " 'Cinematography': 'Alan Stewart',\n",
              " 'Edited by': 'James Herbert',\n",
              " 'Music by': 'Alan Menken',\n",
              " 'Production companies': ['Walt Disney Pictures', 'Rideback'],\n",
              " 'Distributed by': ['Walt Disney Studios', 'Motion Pictures'],\n",
              " 'Release dates': ['May 8, 2019 ( Grand Rex )',\n",
              "  'May 24, 2019 (United States)'],\n",
              " 'Running time': '128 minutes',\n",
              " 'Country': 'United States',\n",
              " 'Language': 'English',\n",
              " 'Budget': '$183 million',\n",
              " 'Box office': ''}"
            ]
          },
          "execution_count": 29,
          "metadata": {},
          "output_type": "execute_result"
        }
      ],
      "source": [
        "# get a movie entry\n",
        "movie_infobox_list[-10]"
      ]
    },
    {
      "cell_type": "code",
      "execution_count": 30,
      "metadata": {
        "colab": {
          "base_uri": "https://localhost:8080/"
        },
        "id": "u7eQ3lk80HMa",
        "outputId": "dbb84e4b-1052-41fd-d1b2-ddb2eb9aa3fe"
      },
      "outputs": [
        {
          "data": {
            "text/plain": [
              "['83 minutes',\n",
              " '88 minutes',\n",
              " '126 minutes',\n",
              " '74 minutes',\n",
              " '64 minutes',\n",
              " '70 minutes',\n",
              " '42 minutes',\n",
              " '65 min',\n",
              " '71 minutes',\n",
              " '75 minutes',\n",
              " '94 minutes',\n",
              " '73 minutes',\n",
              " '75 minutes',\n",
              " '82 minutes',\n",
              " '68 minutes',\n",
              " '74 minutes',\n",
              " '96 minutes',\n",
              " '75 minutes',\n",
              " '84 minutes',\n",
              " '77 minutes']"
            ]
          },
          "execution_count": 30,
          "metadata": {},
          "output_type": "execute_result"
        }
      ],
      "source": [
        "# get running times to look for edge cases\n",
        "[movie.get('Running time', 'N/A') for movie in movie_infobox_list][:20]"
      ]
    },
    {
      "cell_type": "code",
      "execution_count": 31,
      "metadata": {
        "id": "EzWkIwkluik-"
      },
      "outputs": [],
      "source": [
        "# runtime conversion function\n",
        "def minutes_to_integer(running_time):\n",
        "    if running_time == 'N/A':\n",
        "        return None\n",
        "    if isinstance(running_time, list):\n",
        "        entry = running_time[0]\n",
        "    else:\n",
        "        entry = running_time\n",
        "    value = int(entry.split(' ')[0])\n",
        "    return value"
      ]
    },
    {
      "cell_type": "code",
      "execution_count": 32,
      "metadata": {
        "id": "Rx4o_7n_zls9"
      },
      "outputs": [],
      "source": [
        "# appending conversions to entries\n",
        "for movie in movie_infobox_list:\n",
        "    movie['Running time (int)'] = minutes_to_integer(movie.get('Running time', 'N/A'))"
      ]
    },
    {
      "cell_type": "code",
      "execution_count": 33,
      "metadata": {
        "colab": {
          "base_uri": "https://localhost:8080/"
        },
        "id": "0AZxZpo9z7qL",
        "outputId": "9a1b44f6-1eb5-43ed-c169-621804fe849d"
      },
      "outputs": [
        {
          "data": {
            "text/plain": [
              "{'Title': 'Aladdin',\n",
              " 'Directed by': 'Guy Ritchie',\n",
              " 'Screenplay by': ['John August', 'Guy Ritchie'],\n",
              " 'Based on': [\"Disney 's Aladdin by Ron Clements John Musker Ted Elliott Terry Rossio\",\n",
              "  'Ron Clements',\n",
              "  'John Musker',\n",
              "  'Ted Elliott',\n",
              "  'Terry Rossio',\n",
              "  'Aladdin and the Magic Lamp which is associated with One Thousand and One Nights'],\n",
              " 'Produced by': ['Dan Lin', 'Jonathan Eirich'],\n",
              " 'Starring': ['Will Smith',\n",
              "  'Mena Massoud',\n",
              "  'Naomi Scott',\n",
              "  'Marwan Kenzari',\n",
              "  'Navid Negahban',\n",
              "  'Nasim Pedrad',\n",
              "  'Billy Magnussen'],\n",
              " 'Cinematography': 'Alan Stewart',\n",
              " 'Edited by': 'James Herbert',\n",
              " 'Music by': 'Alan Menken',\n",
              " 'Production companies': ['Walt Disney Pictures', 'Rideback'],\n",
              " 'Distributed by': ['Walt Disney Studios', 'Motion Pictures'],\n",
              " 'Release dates': ['May 8, 2019 ( Grand Rex )',\n",
              "  'May 24, 2019 (United States)'],\n",
              " 'Running time': '128 minutes',\n",
              " 'Country': 'United States',\n",
              " 'Language': 'English',\n",
              " 'Budget': '$183 million',\n",
              " 'Box office': '',\n",
              " 'Running time (int)': 128}"
            ]
          },
          "execution_count": 33,
          "metadata": {},
          "output_type": "execute_result"
        }
      ],
      "source": [
        "# testing conversion\n",
        "movie_infobox_list[-10]"
      ]
    },
    {
      "cell_type": "markdown",
      "metadata": {
        "id": "Qa8L07SaoyIE"
      },
      "source": [
        "Convert Budget & Box office"
      ]
    },
    {
      "cell_type": "code",
      "execution_count": 34,
      "metadata": {
        "colab": {
          "base_uri": "https://localhost:8080/"
        },
        "id": "PIyJgDJS1Lw1",
        "outputId": "63c8770b-9ee6-4420-a7f7-c67a676bc196"
      },
      "outputs": [
        {
          "data": {
            "text/plain": [
              "['$1.49 million',\n",
              " '$2.6 million',\n",
              " '$2.28 million',\n",
              " '$600,000',\n",
              " '$950,000',\n",
              " '$858,000',\n",
              " 'N/A',\n",
              " '$788,000',\n",
              " 'N/A',\n",
              " '$1.35 million',\n",
              " '$2.125 million',\n",
              " 'N/A',\n",
              " '$1.5 million',\n",
              " '$1.5 million',\n",
              " 'N/A',\n",
              " '$2.2 million',\n",
              " '$1,800,000',\n",
              " '$3 million',\n",
              " 'N/A',\n",
              " '$4 million']"
            ]
          },
          "execution_count": 34,
          "metadata": {},
          "output_type": "execute_result"
        }
      ],
      "source": [
        "# get movie budgets for viewing edge cases\n",
        "movie_budgets = [movie.get('Budget', 'N/A') for movie in movie_infobox_list]\n",
        "movie_budgets[:20]"
      ]
    },
    {
      "cell_type": "code",
      "execution_count": 35,
      "metadata": {
        "id": "ZsDBVzUTwdlo"
      },
      "outputs": [],
      "source": [
        "# regex's\n",
        "amounts = r\"thousand|million|billion\"\n",
        "number = r\"\\d+(,\\d{3})*\\.*\\d*\"\n",
        "value_re = rf\"\\${number}\"\n",
        "word_re = rf\"\\${number}(-|\\sto\\s)?({number})?\\s({amounts})\"\n",
        "\n",
        "# converts 'illion' values to numbers\n",
        "def word_to_value(word):\n",
        "    value_dict = {'thousand': 1000, \"million\": 1000000, \"billion\": 1000000000}\n",
        "    return value_dict[word]\n",
        "\n",
        "# gets numerical value from entries like '$10 million'\n",
        "def parse_word_syntax(string):\n",
        "    value_string = re.search(number, string).group()\n",
        "    value = float(value_string.replace(',', ''))\n",
        "    word = re.search(amounts, string, flags=re.I).group().lower()\n",
        "    word_value = word_to_value(word)\n",
        "    return value * word_value\n",
        "\n",
        "# gets numerical value from entries like '$730,000'\n",
        "def parse_value_syntax(string):\n",
        "    value_string = re.search(number, string).group()\n",
        "    value = float(value_string.replace(',', ''))\n",
        "    return value\n",
        "\n",
        "# converts money string value to float\n",
        "def money_conversion(money):\n",
        "\n",
        "    if isinstance(money, list):\n",
        "        money = money[0]\n",
        "\n",
        "    word_syntax = re.search(word_re, money, flags=re.I)\n",
        "    value_syntax = re.search(value_re, money)\n",
        "\n",
        "    if word_syntax:\n",
        "        return parse_word_syntax(word_syntax.group())\n",
        "    \n",
        "    elif value_syntax:\n",
        "        return parse_value_syntax(value_syntax.group())\n",
        "    \n",
        "    else:\n",
        "        return None"
      ]
    },
    {
      "cell_type": "code",
      "execution_count": 36,
      "metadata": {
        "colab": {
          "base_uri": "https://localhost:8080/"
        },
        "id": "VZS6stn7yKNY",
        "outputId": "e197a5d9-b89b-4fa3-a725-b3c45ce3ba24"
      },
      "outputs": [
        {
          "data": {
            "text/plain": [
              "[1490000.0,\n",
              " 2600000.0,\n",
              " 2280000.0,\n",
              " 600000.0,\n",
              " 950000.0,\n",
              " 858000.0,\n",
              " None,\n",
              " 788000.0,\n",
              " None,\n",
              " 1350000.0,\n",
              " 2125000.0,\n",
              " None,\n",
              " 1500000.0,\n",
              " 1500000.0,\n",
              " None,\n",
              " 2200000.0,\n",
              " 1800000.0,\n",
              " 3000000.0,\n",
              " None,\n",
              " 4000000.0]"
            ]
          },
          "execution_count": 36,
          "metadata": {},
          "output_type": "execute_result"
        }
      ],
      "source": [
        "# check money_conversion function\n",
        "[money_conversion(budget) for budget in movie_budgets][:20]"
      ]
    },
    {
      "cell_type": "code",
      "execution_count": 37,
      "metadata": {
        "id": "cAffmlf1xSdR"
      },
      "outputs": [],
      "source": [
        "# create numerical versions of budget and box office\n",
        "for movie in movie_infobox_list:\n",
        "    movie['Budget (float)'] = money_conversion(movie.get('Budget', 'N/A'))\n",
        "    movie['Box office (float)'] = money_conversion(movie.get('Box office', 'N/A'))"
      ]
    },
    {
      "cell_type": "code",
      "execution_count": 38,
      "metadata": {
        "colab": {
          "base_uri": "https://localhost:8080/"
        },
        "id": "Y6jBoSJS4h2M",
        "outputId": "54455f8a-6f71-4737-f9cd-42983ba8afdf"
      },
      "outputs": [
        {
          "data": {
            "text/plain": [
              "{'Title': 'Aladdin',\n",
              " 'Directed by': 'Guy Ritchie',\n",
              " 'Screenplay by': ['John August', 'Guy Ritchie'],\n",
              " 'Based on': [\"Disney 's Aladdin by Ron Clements John Musker Ted Elliott Terry Rossio\",\n",
              "  'Ron Clements',\n",
              "  'John Musker',\n",
              "  'Ted Elliott',\n",
              "  'Terry Rossio',\n",
              "  'Aladdin and the Magic Lamp which is associated with One Thousand and One Nights'],\n",
              " 'Produced by': ['Dan Lin', 'Jonathan Eirich'],\n",
              " 'Starring': ['Will Smith',\n",
              "  'Mena Massoud',\n",
              "  'Naomi Scott',\n",
              "  'Marwan Kenzari',\n",
              "  'Navid Negahban',\n",
              "  'Nasim Pedrad',\n",
              "  'Billy Magnussen'],\n",
              " 'Cinematography': 'Alan Stewart',\n",
              " 'Edited by': 'James Herbert',\n",
              " 'Music by': 'Alan Menken',\n",
              " 'Production companies': ['Walt Disney Pictures', 'Rideback'],\n",
              " 'Distributed by': ['Walt Disney Studios', 'Motion Pictures'],\n",
              " 'Release dates': ['May 8, 2019 ( Grand Rex )',\n",
              "  'May 24, 2019 (United States)'],\n",
              " 'Running time': '128 minutes',\n",
              " 'Country': 'United States',\n",
              " 'Language': 'English',\n",
              " 'Budget': '$183 million',\n",
              " 'Box office': '',\n",
              " 'Running time (int)': 128,\n",
              " 'Budget (float)': 183000000.0,\n",
              " 'Box office (float)': None}"
            ]
          },
          "execution_count": 38,
          "metadata": {},
          "output_type": "execute_result"
        }
      ],
      "source": [
        "# check money conversion in movie dicts\n",
        "movie_infobox_list[-10]"
      ]
    },
    {
      "cell_type": "code",
      "execution_count": 39,
      "metadata": {
        "colab": {
          "base_uri": "https://localhost:8080/"
        },
        "id": "iml6Yd-k4l7k",
        "outputId": "006c923e-eedd-4b5d-ba5e-d38edd26c696"
      },
      "outputs": [
        {
          "data": {
            "text/plain": [
              "['N/A',\n",
              " 'N/A',\n",
              " ['November 13, 1940'],\n",
              " ['June 27, 1941'],\n",
              " 'N/A',\n",
              " 'N/A',\n",
              " 'N/A',\n",
              " ['July 17, 1943'],\n",
              " 'N/A',\n",
              " 'N/A',\n",
              " 'N/A',\n",
              " ['September 27, 1947'],\n",
              " 'May 27, 1948',\n",
              " 'N/A',\n",
              " ['October 5, 1949'],\n",
              " 'N/A',\n",
              " 'N/A',\n",
              " 'N/A',\n",
              " 'N/A',\n",
              " ['February 5, 1953 (United States)']]"
            ]
          },
          "execution_count": 39,
          "metadata": {},
          "output_type": "execute_result"
        }
      ],
      "source": [
        "# look at movie dates\n",
        "movie_dates = [movie.get('Release date', 'N/A') for movie in movie_infobox_list]\n",
        "movie_dates[:20]"
      ]
    },
    {
      "cell_type": "code",
      "execution_count": 40,
      "metadata": {
        "id": "MX2LmnTX5ui1"
      },
      "outputs": [],
      "source": [
        "# get string if date is list\n",
        "def clean_date(date):\n",
        "    return date.split('(')[0].strip()\n",
        "\n",
        "# convert string date to datetime\n",
        "def date_conversion(date):\n",
        "    if isinstance(date, list):\n",
        "        date = date[0]\n",
        "    \n",
        "    if date == 'N/A':\n",
        "        return None\n",
        "\n",
        "    date_str = clean_date(date)\n",
        "\n",
        "    fmts = [\"%B %d, %Y\", \"%d %B %Y\"]\n",
        "    for fmt in fmts:\n",
        "        try:\n",
        "            return datetime.strptime(date_str, fmt)\n",
        "        except:\n",
        "            return None\n",
        "    return None"
      ]
    },
    {
      "cell_type": "code",
      "execution_count": 41,
      "metadata": {
        "id": "MdaMnrdJ6lHC"
      },
      "outputs": [],
      "source": [
        "# create datetime value for each movie\n",
        "for movie in movie_infobox_list:\n",
        "    movie['Release date (datetime)'] = date_conversion(movie.get('Release date', 'N/A'))"
      ]
    },
    {
      "cell_type": "code",
      "execution_count": 42,
      "metadata": {
        "colab": {
          "base_uri": "https://localhost:8080/"
        },
        "id": "FDLPYqVK6sb9",
        "outputId": "50d58def-1bb3-4eec-9671-61abfd8bdd41"
      },
      "outputs": [
        {
          "data": {
            "text/plain": [
              "{'Title': 'National Treasure: Book of Secrets',\n",
              " 'Directed by': 'Jon Turteltaub',\n",
              " 'Screenplay by': ['Cormac Wibberley', 'Marianne Wibberley'],\n",
              " 'Story by': ['Gregory Poirier',\n",
              "  'Cormac Wibberley',\n",
              "  'Marianne Wibberley',\n",
              "  'Ted Elliott',\n",
              "  'Terry Rossio'],\n",
              " 'Based on': ['Characters', 'by', 'Jim Kouf', 'Oren Aviv', 'Charles Segars'],\n",
              " 'Produced by': ['Jerry Bruckheimer', 'Jon Turteltaub'],\n",
              " 'Starring': ['Nicolas Cage',\n",
              "  'Diane Kruger',\n",
              "  'Justin Bartha',\n",
              "  'Jon Voight',\n",
              "  'Helen Mirren',\n",
              "  'Ed Harris',\n",
              "  'Harvey Keitel',\n",
              "  'Bruce Greenwood'],\n",
              " 'Cinematography': ['John Schwartzman', 'Amir Mokri'],\n",
              " 'Edited by': ['William Goldenberg', 'David Rennie'],\n",
              " 'Music by': 'Trevor Rabin',\n",
              " 'Production companies': ['Walt Disney Pictures',\n",
              "  'Jerry Bruckheimer Films',\n",
              "  'Junction Entertainment',\n",
              "  'Saturn Films'],\n",
              " 'Distributed by': 'Walt Disney Studios Motion Pictures',\n",
              " 'Release date': ['December 21, 2007'],\n",
              " 'Running time': '124 minutes',\n",
              " 'Country': 'United States',\n",
              " 'Language': 'English',\n",
              " 'Budget': '$130 million',\n",
              " 'Box office': '$459.2 million',\n",
              " 'Running time (int)': 124,\n",
              " 'Budget (float)': 130000000.0,\n",
              " 'Box office (float)': 459200000.0,\n",
              " 'Release date (datetime)': datetime.datetime(2007, 12, 21, 0, 0)}"
            ]
          },
          "execution_count": 42,
          "metadata": {},
          "output_type": "execute_result"
        }
      ],
      "source": [
        "# check datetime conversion\n",
        "movie_infobox_list[-20]"
      ]
    },
    {
      "cell_type": "markdown",
      "metadata": {
        "id": "eO1tfUqM9rqg"
      },
      "source": [
        "### Pickle Movie Data"
      ]
    },
    {
      "cell_type": "code",
      "execution_count": 43,
      "metadata": {
        "id": "uLUDruN19Reu"
      },
      "outputs": [],
      "source": [
        "# save data in pickle\n",
        "def save_data_pickle(name, data):\n",
        "    with open(name, 'wb') as f:\n",
        "        pickle.dump(data, f)"
      ]
    },
    {
      "cell_type": "code",
      "execution_count": 44,
      "metadata": {
        "id": "551dq9L--lBP"
      },
      "outputs": [],
      "source": [
        "# load data from pickle\n",
        "def load_data_pickle(name):\n",
        "    with open(name, 'rb') as f:\n",
        "        return pickle.load(f)"
      ]
    },
    {
      "cell_type": "code",
      "execution_count": 45,
      "metadata": {
        "id": "398qd_Cr-tLm"
      },
      "outputs": [],
      "source": [
        "# save_data_pickle('disney_movie_data_cleaned_more.pickle', movie_infobox_list)"
      ]
    },
    {
      "cell_type": "code",
      "execution_count": 46,
      "metadata": {
        "id": "6HOUfUSD-3Pm"
      },
      "outputs": [],
      "source": [
        "# a = load_data_pickle('disney_movie_data_cleaned_more.pickle')"
      ]
    },
    {
      "cell_type": "code",
      "execution_count": 47,
      "metadata": {
        "colab": {
          "base_uri": "https://localhost:8080/"
        },
        "id": "x-Nwl522_H3e",
        "outputId": "499a95a2-4791-487a-f175-765eaa0cb386"
      },
      "outputs": [],
      "source": [
        "# equivalent!\n",
        "# a == movie_infobox_list"
      ]
    },
    {
      "cell_type": "markdown",
      "metadata": {
        "id": "wH1pf042_Pcs"
      },
      "source": [
        "## Task 4: Attach IMDB/Rotten Tomatoes Scores\n",
        "\n",
        "Completion of this task requires an API key. Will skip to keep scope to a minimum."
      ]
    },
    {
      "cell_type": "markdown",
      "metadata": {
        "id": "wGuSawZNAoQG"
      },
      "source": [
        "# Task 5: Save data as JSON & CSV"
      ]
    },
    {
      "cell_type": "code",
      "execution_count": 48,
      "metadata": {
        "id": "ckAYNutP_I49"
      },
      "outputs": [],
      "source": [
        "# creating copy (prevent alterations to original list)\n",
        "movie_info_copy = [movie.copy() for movie in movie_infobox_list]"
      ]
    },
    {
      "cell_type": "code",
      "execution_count": 49,
      "metadata": {
        "id": "3jvm8w5xBIeX"
      },
      "outputs": [],
      "source": [
        "# JSON will not accept datetime format\n",
        "    # must convert to string before save to JSON\n",
        "for movie in movie_info_copy:\n",
        "    current_date = movie['Release date (datetime)']\n",
        "    if current_date:\n",
        "        movie['Release date (datetime)'] = current_date.strftime(\"%B %d, %Y\")"
      ]
    },
    {
      "cell_type": "code",
      "execution_count": 50,
      "metadata": {
        "id": "MQM6QdJ4Bd0w"
      },
      "outputs": [],
      "source": [
        "# save to JSON using previous function\n",
        "# save_data('disney_data_final.json', movie_info_copy)"
      ]
    },
    {
      "cell_type": "code",
      "execution_count": 51,
      "metadata": {
        "colab": {
          "base_uri": "https://localhost:8080/",
          "height": 768
        },
        "id": "XsxslOF9BmqX",
        "outputId": "ae61c136-bc43-409c-b97a-a9ceb0ee3a9f"
      },
      "outputs": [
        {
          "data": {
            "text/html": [
              "<div>\n",
              "<style scoped>\n",
              "    .dataframe tbody tr th:only-of-type {\n",
              "        vertical-align: middle;\n",
              "    }\n",
              "\n",
              "    .dataframe tbody tr th {\n",
              "        vertical-align: top;\n",
              "    }\n",
              "\n",
              "    .dataframe thead th {\n",
              "        text-align: right;\n",
              "    }\n",
              "</style>\n",
              "<table border=\"1\" class=\"dataframe\">\n",
              "  <thead>\n",
              "    <tr style=\"text-align: right;\">\n",
              "      <th></th>\n",
              "      <th>Title</th>\n",
              "      <th>Directed by</th>\n",
              "      <th>Written by</th>\n",
              "      <th>Based on</th>\n",
              "      <th>Produced by</th>\n",
              "      <th>Starring</th>\n",
              "      <th>Music by</th>\n",
              "      <th>Production company</th>\n",
              "      <th>Distributed by</th>\n",
              "      <th>Release dates</th>\n",
              "      <th>...</th>\n",
              "      <th>Traditional</th>\n",
              "      <th>Simplified</th>\n",
              "      <th>Original title</th>\n",
              "      <th>Layouts by</th>\n",
              "      <th>Music</th>\n",
              "      <th>Lyrics</th>\n",
              "      <th>Book</th>\n",
              "      <th>Basis</th>\n",
              "      <th>Productions</th>\n",
              "      <th>Awards</th>\n",
              "    </tr>\n",
              "  </thead>\n",
              "  <tbody>\n",
              "    <tr>\n",
              "      <th>0</th>\n",
              "      <td>Snow White and the Seven Dwarfs</td>\n",
              "      <td>[David Hand, William Cottrell, Wilfred Jackson...</td>\n",
              "      <td>[Ted Sears, Richard Creedon, Otto Englander, D...</td>\n",
              "      <td>[Snow White, by The, Brothers Grimm]</td>\n",
              "      <td>Walt Disney</td>\n",
              "      <td>[Adriana Caselotti, Lucille La Verne, Harry St...</td>\n",
              "      <td>[Frank Churchill, Paul Smith, Leigh Harline]</td>\n",
              "      <td>Walt Disney Productions</td>\n",
              "      <td>RKO Radio Pictures</td>\n",
              "      <td>[December 21, 1937 ( Carthay Circle Theatre ),...</td>\n",
              "      <td>...</td>\n",
              "      <td>NaN</td>\n",
              "      <td>NaN</td>\n",
              "      <td>NaN</td>\n",
              "      <td>NaN</td>\n",
              "      <td>NaN</td>\n",
              "      <td>NaN</td>\n",
              "      <td>NaN</td>\n",
              "      <td>NaN</td>\n",
              "      <td>NaN</td>\n",
              "      <td>NaN</td>\n",
              "    </tr>\n",
              "    <tr>\n",
              "      <th>1</th>\n",
              "      <td>Pinocchio</td>\n",
              "      <td>[Ben Sharpsteen, Hamilton Luske, Bill Roberts,...</td>\n",
              "      <td>NaN</td>\n",
              "      <td>[The Adventures of Pinocchio, by, Carlo Collodi]</td>\n",
              "      <td>Walt Disney</td>\n",
              "      <td>[Cliff Edwards, Dickie Jones, Christian Rub, W...</td>\n",
              "      <td>[Leigh Harline, Paul J. Smith]</td>\n",
              "      <td>Walt Disney Productions</td>\n",
              "      <td>RKO Radio Pictures</td>\n",
              "      <td>[February 7, 1940 ( Center Theatre ), February...</td>\n",
              "      <td>...</td>\n",
              "      <td>NaN</td>\n",
              "      <td>NaN</td>\n",
              "      <td>NaN</td>\n",
              "      <td>NaN</td>\n",
              "      <td>NaN</td>\n",
              "      <td>NaN</td>\n",
              "      <td>NaN</td>\n",
              "      <td>NaN</td>\n",
              "      <td>NaN</td>\n",
              "      <td>NaN</td>\n",
              "    </tr>\n",
              "    <tr>\n",
              "      <th>2</th>\n",
              "      <td>Fantasia</td>\n",
              "      <td>[Samuel Armstrong, James Algar, Bill Roberts, ...</td>\n",
              "      <td>NaN</td>\n",
              "      <td>NaN</td>\n",
              "      <td>[Walt Disney, Ben Sharpsteen]</td>\n",
              "      <td>[Leopold Stokowski, Deems Taylor]</td>\n",
              "      <td>See program</td>\n",
              "      <td>Walt Disney Productions</td>\n",
              "      <td>RKO Radio Pictures</td>\n",
              "      <td>NaN</td>\n",
              "      <td>...</td>\n",
              "      <td>NaN</td>\n",
              "      <td>NaN</td>\n",
              "      <td>NaN</td>\n",
              "      <td>NaN</td>\n",
              "      <td>NaN</td>\n",
              "      <td>NaN</td>\n",
              "      <td>NaN</td>\n",
              "      <td>NaN</td>\n",
              "      <td>NaN</td>\n",
              "      <td>NaN</td>\n",
              "    </tr>\n",
              "    <tr>\n",
              "      <th>3</th>\n",
              "      <td>The Reluctant Dragon</td>\n",
              "      <td>[Alfred Werker, (live action), Hamilton Luske,...</td>\n",
              "      <td>[Live-action:, Ted Sears, Al Perkins, Larry Cl...</td>\n",
              "      <td>NaN</td>\n",
              "      <td>Walt Disney</td>\n",
              "      <td>[Robert Benchley, Frances Gifford, Buddy Peppe...</td>\n",
              "      <td>[Frank Churchill, Larry Morey]</td>\n",
              "      <td>Walt Disney Productions</td>\n",
              "      <td>RKO Radio Pictures</td>\n",
              "      <td>NaN</td>\n",
              "      <td>...</td>\n",
              "      <td>NaN</td>\n",
              "      <td>NaN</td>\n",
              "      <td>NaN</td>\n",
              "      <td>NaN</td>\n",
              "      <td>NaN</td>\n",
              "      <td>NaN</td>\n",
              "      <td>NaN</td>\n",
              "      <td>NaN</td>\n",
              "      <td>NaN</td>\n",
              "      <td>NaN</td>\n",
              "    </tr>\n",
              "    <tr>\n",
              "      <th>4</th>\n",
              "      <td>Dumbo</td>\n",
              "      <td>[Ben Sharpsteen, Norman Ferguson, Wilfred Jack...</td>\n",
              "      <td>NaN</td>\n",
              "      <td>[Dumbo, the Flying Elephant, by, Helen Aberson...</td>\n",
              "      <td>Walt Disney</td>\n",
              "      <td>[Edward Brophy, Verna Felton, Cliff Edwards, H...</td>\n",
              "      <td>[Frank Churchill, Oliver Wallace]</td>\n",
              "      <td>Walt Disney Productions</td>\n",
              "      <td>RKO Radio Pictures</td>\n",
              "      <td>[October 23, 1941 (New York City), October 31,...</td>\n",
              "      <td>...</td>\n",
              "      <td>NaN</td>\n",
              "      <td>NaN</td>\n",
              "      <td>NaN</td>\n",
              "      <td>NaN</td>\n",
              "      <td>NaN</td>\n",
              "      <td>NaN</td>\n",
              "      <td>NaN</td>\n",
              "      <td>NaN</td>\n",
              "      <td>NaN</td>\n",
              "      <td>NaN</td>\n",
              "    </tr>\n",
              "  </tbody>\n",
              "</table>\n",
              "<p>5 rows × 43 columns</p>\n",
              "</div>"
            ],
            "text/plain": [
              "                             Title  \\\n",
              "0  Snow White and the Seven Dwarfs   \n",
              "1                        Pinocchio   \n",
              "2                         Fantasia   \n",
              "3             The Reluctant Dragon   \n",
              "4                            Dumbo   \n",
              "\n",
              "                                         Directed by  \\\n",
              "0  [David Hand, William Cottrell, Wilfred Jackson...   \n",
              "1  [Ben Sharpsteen, Hamilton Luske, Bill Roberts,...   \n",
              "2  [Samuel Armstrong, James Algar, Bill Roberts, ...   \n",
              "3  [Alfred Werker, (live action), Hamilton Luske,...   \n",
              "4  [Ben Sharpsteen, Norman Ferguson, Wilfred Jack...   \n",
              "\n",
              "                                          Written by  \\\n",
              "0  [Ted Sears, Richard Creedon, Otto Englander, D...   \n",
              "1                                                NaN   \n",
              "2                                                NaN   \n",
              "3  [Live-action:, Ted Sears, Al Perkins, Larry Cl...   \n",
              "4                                                NaN   \n",
              "\n",
              "                                            Based on  \\\n",
              "0               [Snow White, by The, Brothers Grimm]   \n",
              "1   [The Adventures of Pinocchio, by, Carlo Collodi]   \n",
              "2                                                NaN   \n",
              "3                                                NaN   \n",
              "4  [Dumbo, the Flying Elephant, by, Helen Aberson...   \n",
              "\n",
              "                     Produced by  \\\n",
              "0                    Walt Disney   \n",
              "1                    Walt Disney   \n",
              "2  [Walt Disney, Ben Sharpsteen]   \n",
              "3                    Walt Disney   \n",
              "4                    Walt Disney   \n",
              "\n",
              "                                            Starring  \\\n",
              "0  [Adriana Caselotti, Lucille La Verne, Harry St...   \n",
              "1  [Cliff Edwards, Dickie Jones, Christian Rub, W...   \n",
              "2                  [Leopold Stokowski, Deems Taylor]   \n",
              "3  [Robert Benchley, Frances Gifford, Buddy Peppe...   \n",
              "4  [Edward Brophy, Verna Felton, Cliff Edwards, H...   \n",
              "\n",
              "                                       Music by       Production company  \\\n",
              "0  [Frank Churchill, Paul Smith, Leigh Harline]  Walt Disney Productions   \n",
              "1                [Leigh Harline, Paul J. Smith]  Walt Disney Productions   \n",
              "2                                   See program  Walt Disney Productions   \n",
              "3                [Frank Churchill, Larry Morey]  Walt Disney Productions   \n",
              "4             [Frank Churchill, Oliver Wallace]  Walt Disney Productions   \n",
              "\n",
              "       Distributed by                                      Release dates  ...  \\\n",
              "0  RKO Radio Pictures  [December 21, 1937 ( Carthay Circle Theatre ),...  ...   \n",
              "1  RKO Radio Pictures  [February 7, 1940 ( Center Theatre ), February...  ...   \n",
              "2  RKO Radio Pictures                                                NaN  ...   \n",
              "3  RKO Radio Pictures                                                NaN  ...   \n",
              "4  RKO Radio Pictures  [October 23, 1941 (New York City), October 31,...  ...   \n",
              "\n",
              "  Traditional Simplified Original title Layouts by Music  Lyrics  Book  Basis  \\\n",
              "0         NaN        NaN            NaN        NaN   NaN     NaN   NaN    NaN   \n",
              "1         NaN        NaN            NaN        NaN   NaN     NaN   NaN    NaN   \n",
              "2         NaN        NaN            NaN        NaN   NaN     NaN   NaN    NaN   \n",
              "3         NaN        NaN            NaN        NaN   NaN     NaN   NaN    NaN   \n",
              "4         NaN        NaN            NaN        NaN   NaN     NaN   NaN    NaN   \n",
              "\n",
              "  Productions Awards  \n",
              "0         NaN    NaN  \n",
              "1         NaN    NaN  \n",
              "2         NaN    NaN  \n",
              "3         NaN    NaN  \n",
              "4         NaN    NaN  \n",
              "\n",
              "[5 rows x 43 columns]"
            ]
          },
          "execution_count": 51,
          "metadata": {},
          "output_type": "execute_result"
        }
      ],
      "source": [
        "# move data into dataframe for saving to csv\n",
        "df = pd.DataFrame(movie_infobox_list)\n",
        "df.head()"
      ]
    },
    {
      "cell_type": "code",
      "execution_count": 52,
      "metadata": {
        "id": "8Y7yhDyGB8oH"
      },
      "outputs": [],
      "source": [
        "# save to csv\n",
        "# df.to_csv('disney_movie_data_final.csv')"
      ]
    }
  ],
  "metadata": {
    "colab": {
      "collapsed_sections": [
        "wH1pf042_Pcs"
      ],
      "provenance": []
    },
    "kernelspec": {
      "display_name": "Python 3.10.8 ('venv': venv)",
      "language": "python",
      "name": "python3"
    },
    "language_info": {
      "codemirror_mode": {
        "name": "ipython",
        "version": 3
      },
      "file_extension": ".py",
      "mimetype": "text/x-python",
      "name": "python",
      "nbconvert_exporter": "python",
      "pygments_lexer": "ipython3",
      "version": "3.10.8"
    },
    "vscode": {
      "interpreter": {
        "hash": "688f9646a5a56356c3a9433891c5fdd7e2e015d073ee1fa37631165c7c21a83f"
      }
    }
  },
  "nbformat": 4,
  "nbformat_minor": 0
}
